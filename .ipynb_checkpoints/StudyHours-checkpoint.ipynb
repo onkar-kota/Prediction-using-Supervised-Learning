{
 "cells": [
  {
   "cell_type": "markdown",
   "id": "be928c99",
   "metadata": {},
   "source": [
    "## Importing models"
   ]
  },
  {
   "cell_type": "code",
   "execution_count": 59,
   "id": "6ca27672",
   "metadata": {},
   "outputs": [],
   "source": [
    "import pandas as pd\n",
    "import numpy as np\n",
    "import matplotlib.pylab as plt\n",
    "import sklearn \n",
    "import seaborn as sb\n",
    "\n",
    "from sklearn.linear_model import LinearRegression\n",
    "from sklearn.model_selection import train_test_split\n",
    "from sklearn import metrics"
   ]
  },
  {
   "cell_type": "code",
   "execution_count": 10,
   "id": "d62da0f2",
   "metadata": {},
   "outputs": [],
   "source": [
    "%matplotlib inline\n",
    "sb.set_style('darkgrid')"
   ]
  },
  {
   "cell_type": "markdown",
   "id": "1c0d76a3",
   "metadata": {},
   "source": [
    "## Imputing dataset"
   ]
  },
  {
   "cell_type": "code",
   "execution_count": 3,
   "id": "2610af11",
   "metadata": {},
   "outputs": [],
   "source": [
    "address = \"D:/Coding Files/Data Science/Projects/Linear Regression task/Study.csv\"\n",
    "\n",
    "df = pd.read_csv(address)"
   ]
  },
  {
   "cell_type": "code",
   "execution_count": 4,
   "id": "86f431ce",
   "metadata": {},
   "outputs": [
    {
     "data": {
      "text/html": [
       "<div>\n",
       "<style scoped>\n",
       "    .dataframe tbody tr th:only-of-type {\n",
       "        vertical-align: middle;\n",
       "    }\n",
       "\n",
       "    .dataframe tbody tr th {\n",
       "        vertical-align: top;\n",
       "    }\n",
       "\n",
       "    .dataframe thead th {\n",
       "        text-align: right;\n",
       "    }\n",
       "</style>\n",
       "<table border=\"1\" class=\"dataframe\">\n",
       "  <thead>\n",
       "    <tr style=\"text-align: right;\">\n",
       "      <th></th>\n",
       "      <th>Hours</th>\n",
       "      <th>Scores</th>\n",
       "    </tr>\n",
       "  </thead>\n",
       "  <tbody>\n",
       "    <tr>\n",
       "      <th>0</th>\n",
       "      <td>2.5</td>\n",
       "      <td>21</td>\n",
       "    </tr>\n",
       "    <tr>\n",
       "      <th>1</th>\n",
       "      <td>5.1</td>\n",
       "      <td>47</td>\n",
       "    </tr>\n",
       "    <tr>\n",
       "      <th>2</th>\n",
       "      <td>3.2</td>\n",
       "      <td>27</td>\n",
       "    </tr>\n",
       "    <tr>\n",
       "      <th>3</th>\n",
       "      <td>8.5</td>\n",
       "      <td>75</td>\n",
       "    </tr>\n",
       "    <tr>\n",
       "      <th>4</th>\n",
       "      <td>3.5</td>\n",
       "      <td>30</td>\n",
       "    </tr>\n",
       "  </tbody>\n",
       "</table>\n",
       "</div>"
      ],
      "text/plain": [
       "   Hours  Scores\n",
       "0    2.5      21\n",
       "1    5.1      47\n",
       "2    3.2      27\n",
       "3    8.5      75\n",
       "4    3.5      30"
      ]
     },
     "execution_count": 4,
     "metadata": {},
     "output_type": "execute_result"
    }
   ],
   "source": [
    "df.head()"
   ]
  },
  {
   "cell_type": "code",
   "execution_count": 14,
   "id": "b9f991fc",
   "metadata": {},
   "outputs": [
    {
     "data": {
      "text/plain": [
       "<Figure size 720x1440 with 0 Axes>"
      ]
     },
     "metadata": {},
     "output_type": "display_data"
    },
    {
     "data": {
      "image/png": "[encoded data removed]",
      "text/plain": [
       "<Figure size 432x288 with 1 Axes>"
      ]
     },
     "metadata": {},
     "output_type": "display_data"
    }
   ],
   "source": [
    "plt.figure(figsize=(10,20))\n",
    "df.plot(x='Hours',y='Scores', style='o')\n",
    "plt.title('Hours vs Percentage')\n",
    "plt.ylabel('Percentage')\n",
    "plt.show()"
   ]
  },
  {
   "cell_type": "code",
   "execution_count": 18,
   "id": "bee1448b",
   "metadata": {},
   "outputs": [],
   "source": [
    "X = df.iloc[:,:-1].values\n",
    "y = df['Scores'].values"
   ]
  },
  {
   "cell_type": "code",
   "execution_count": 23,
   "id": "121df0c4",
   "metadata": {},
   "outputs": [],
   "source": [
    "X_train, X_test, y_train, y_test = train_test_split(X,y , test_size = 0.25, random_state=0)"
   ]
  },
  {
   "cell_type": "markdown",
   "id": "d8bd0b7f",
   "metadata": {},
   "source": [
    "## Training our Algorithm"
   ]
  },
  {
   "cell_type": "code",
   "execution_count": 30,
   "id": "1a34db2b",
   "metadata": {},
   "outputs": [
    {
     "name": "stdout",
     "output_type": "stream",
     "text": [
      "Training Complete\n"
     ]
    }
   ],
   "source": [
    "linReg = LinearRegression()\n",
    "linReg.fit(X_train,y_train)\n",
    "print(\"Training Complete\")"
   ]
  },
  {
   "cell_type": "markdown",
   "id": "88e6ebf5",
   "metadata": {},
   "source": [
    "## Making Predictions"
   ]
  },
  {
   "cell_type": "code",
   "execution_count": 33,
   "id": "48ea3ce3",
   "metadata": {},
   "outputs": [],
   "source": [
    "y_pred = linReg.predict(X_test)"
   ]
  },
  {
   "cell_type": "code",
   "execution_count": 34,
   "id": "78e12691",
   "metadata": {},
   "outputs": [
    {
     "data": {
      "text/plain": [
       "array([16.84472176, 33.74557494, 75.50062397, 26.7864001 , 60.58810646,\n",
       "       39.71058194, 20.8213931 ])"
      ]
     },
     "execution_count": 34,
     "metadata": {},
     "output_type": "execute_result"
    }
   ],
   "source": [
    "y_pred"
   ]
  },
  {
   "cell_type": "code",
   "execution_count": 37,
   "id": "1436c37d",
   "metadata": {},
   "outputs": [
    {
     "data": {
      "text/html": [
       "<div>\n",
       "<style scoped>\n",
       "    .dataframe tbody tr th:only-of-type {\n",
       "        vertical-align: middle;\n",
       "    }\n",
       "\n",
       "    .dataframe tbody tr th {\n",
       "        vertical-align: top;\n",
       "    }\n",
       "\n",
       "    .dataframe thead th {\n",
       "        text-align: right;\n",
       "    }\n",
       "</style>\n",
       "<table border=\"1\" class=\"dataframe\">\n",
       "  <thead>\n",
       "    <tr style=\"text-align: right;\">\n",
       "      <th></th>\n",
       "      <th>Original</th>\n",
       "      <th>Predicted</th>\n",
       "    </tr>\n",
       "  </thead>\n",
       "  <tbody>\n",
       "    <tr>\n",
       "      <th>0</th>\n",
       "      <td>20</td>\n",
       "      <td>16.844722</td>\n",
       "    </tr>\n",
       "    <tr>\n",
       "      <th>1</th>\n",
       "      <td>27</td>\n",
       "      <td>33.745575</td>\n",
       "    </tr>\n",
       "    <tr>\n",
       "      <th>2</th>\n",
       "      <td>69</td>\n",
       "      <td>75.500624</td>\n",
       "    </tr>\n",
       "    <tr>\n",
       "      <th>3</th>\n",
       "      <td>30</td>\n",
       "      <td>26.786400</td>\n",
       "    </tr>\n",
       "    <tr>\n",
       "      <th>4</th>\n",
       "      <td>62</td>\n",
       "      <td>60.588106</td>\n",
       "    </tr>\n",
       "    <tr>\n",
       "      <th>5</th>\n",
       "      <td>35</td>\n",
       "      <td>39.710582</td>\n",
       "    </tr>\n",
       "    <tr>\n",
       "      <th>6</th>\n",
       "      <td>24</td>\n",
       "      <td>20.821393</td>\n",
       "    </tr>\n",
       "  </tbody>\n",
       "</table>\n",
       "</div>"
      ],
      "text/plain": [
       "   Original  Predicted\n",
       "0        20  16.844722\n",
       "1        27  33.745575\n",
       "2        69  75.500624\n",
       "3        30  26.786400\n",
       "4        62  60.588106\n",
       "5        35  39.710582\n",
       "6        24  20.821393"
      ]
     },
     "execution_count": 37,
     "metadata": {},
     "output_type": "execute_result"
    }
   ],
   "source": [
    "d = pd.DataFrame({'Original':y_test, 'Predicted':y_pred})\n",
    "d"
   ]
  },
  {
   "cell_type": "code",
   "execution_count": 53,
   "id": "2cadba83",
   "metadata": {},
   "outputs": [
    {
     "name": "stdout",
     "output_type": "stream",
     "text": [
      "Statistical train ----> 0.9484509249326872\n",
      "Statistical train ----> 0.9367661043365056\n"
     ]
    }
   ],
   "source": [
    "print(\"Statistical train ---->\",linReg.score(X_train,y_train))\n",
    "print(\"Statistical train ---->\",linReg.score(X_test,y_test))"
   ]
  },
  {
   "cell_type": "markdown",
   "id": "a99d11df",
   "metadata": {},
   "source": [
    "## Training Data Scores vs Predicted Source"
   ]
  },
  {
   "cell_type": "code",
   "execution_count": 56,
   "id": "d1580f52",
   "metadata": {},
   "outputs": [
    {
     "data": {
      "image/png": "[encoded data removed]",
      "text/plain": [
       "<Figure size 432x288 with 1 Axes>"
      ]
     },
     "metadata": {},
     "output_type": "display_data"
    }
   ],
   "source": [
    "plt.scatter(X_train,y_train)\n",
    "plt.plot(X_train, linReg.predict(X_train))\n",
    "plt.show()"
   ]
  },
  {
   "cell_type": "markdown",
   "id": "a1eb9735",
   "metadata": {},
   "source": [
    "## Testing Data Scores vs Predicted Source"
   ]
  },
  {
   "cell_type": "code",
   "execution_count": 62,
   "id": "bb1a2bb7",
   "metadata": {},
   "outputs": [
    {
     "data": {
      "image/png": "[encoded data removed]",
      "text/plain": [
       "<Figure size 432x288 with 1 Axes>"
      ]
     },
     "metadata": {},
     "output_type": "display_data"
    }
   ],
   "source": [
    "plt.scatter(y_test,y_pred)\n",
    "\n",
    "z = np.polyfit(y_test,y_pred,1)\n",
    "p = np.poly1d(z)\n",
    "\n",
    "plt.plot(y_test,p(y_test),\"r--\")\n",
    "plt.show()"
   ]
  },
  {
   "cell_type": "code",
   "execution_count": null,
   "id": "16d34922",
   "metadata": {},
   "outputs": [],
   "source": []
  }
 ],
 "metadata": {
  "kernelspec": {
   "display_name": "Python 3",
   "language": "python",
   "name": "python3"
  },
  "language_info": {
   "codemirror_mode": {
    "name": "ipython",
    "version": 3
   },
   "file_extension": ".py",
   "mimetype": "text/x-python",
   "name": "python",
   "nbconvert_exporter": "python",
   "pygments_lexer": "ipython3",
   "version": "3.8.8"
  }
 },
 "nbformat": 4,
 "nbformat_minor": 5
}
